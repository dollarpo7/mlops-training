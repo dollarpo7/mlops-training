{
 "cells": [
  {
   "cell_type": "markdown",
   "id": "7785b132",
   "metadata": {},
   "source": [
    "Q1. Install MLflow"
   ]
  },
  {
   "cell_type": "code",
   "execution_count": 6,
   "id": "d6b47d0a",
   "metadata": {},
   "outputs": [
    {
     "name": "stdout",
     "output_type": "stream",
     "text": [
      "mlflow, version 2.13.1\n"
     ]
    }
   ],
   "source": [
    "\n",
    "! mlflow --version\n"
   ]
  },
  {
   "cell_type": "code",
   "execution_count": 7,
   "id": "43bcf6bb",
   "metadata": {},
   "outputs": [
    {
     "name": "stdout",
     "output_type": "stream",
     "text": [
      "  % Total    % Received % Xferd  Average Speed   Time    Time     Time  Current\n",
      "                                 Dload  Upload   Total   Spent    Left  Speed\n",
      "100 1393k  100 1393k    0     0  33.1M      0 --:--:-- --:--:-- --:--:-- 33.1M\n",
      "  % Total    % Received % Xferd  Average Speed   Time    Time     Time  Current\n",
      "                                 Dload  Upload   Total   Spent    Left  Speed\n",
      "100 1497k  100 1497k    0     0  3707k      0 --:--:-- --:--:-- --:--:-- 3707k\n",
      "  % Total    % Received % Xferd  Average Speed   Time    Time     Time  Current\n",
      "                                 Dload  Upload   Total   Spent    Left  Speed\n",
      "100 1690k  100 1690k    0     0  4507k      0 --:--:-- --:--:-- --:--:-- 4495k\n"
     ]
    }
   ],
   "source": [
    "## Exploratory Data Analysis (EDA)\n",
    "print(f\"1, Data Dimension: {jan_df.shape[0]} rows | {jan_df.shape[1]} columns \\n\")\n",
    "\n",
    "print(f\"2, Duration Standard Deviation: {jan_df['duration'].std()} \\n\")\n",
    "\n",
    "print(f\"3, Outlier Proportion: {clean_prop} \\n\")"
   ]
  },
  {
   "cell_type": "code",
   "execution_count": 8,
   "id": "50133e09",
   "metadata": {},
   "outputs": [
    {
     "data": {
      "text/html": [
       "<div>\n",
       "<style scoped>\n",
       "    .dataframe tbody tr th:only-of-type {\n",
       "        vertical-align: middle;\n",
       "    }\n",
       "\n",
       "    .dataframe tbody tr th {\n",
       "        vertical-align: top;\n",
       "    }\n",
       "\n",
       "    .dataframe thead th {\n",
       "        text-align: right;\n",
       "    }\n",
       "</style>\n",
       "<table border=\"1\" class=\"dataframe\">\n",
       "  <thead>\n",
       "    <tr style=\"text-align: right;\">\n",
       "      <th></th>\n",
       "      <th>PULocationID</th>\n",
       "      <th>DOLocationID</th>\n",
       "      <th>duration</th>\n",
       "    </tr>\n",
       "  </thead>\n",
       "  <tbody>\n",
       "    <tr>\n",
       "      <th>0</th>\n",
       "      <td>161</td>\n",
       "      <td>141</td>\n",
       "      <td>8.433333</td>\n",
       "    </tr>\n",
       "    <tr>\n",
       "      <th>1</th>\n",
       "      <td>43</td>\n",
       "      <td>237</td>\n",
       "      <td>6.316667</td>\n",
       "    </tr>\n",
       "    <tr>\n",
       "      <th>2</th>\n",
       "      <td>48</td>\n",
       "      <td>238</td>\n",
       "      <td>12.750000</td>\n",
       "    </tr>\n",
       "    <tr>\n",
       "      <th>3</th>\n",
       "      <td>138</td>\n",
       "      <td>7</td>\n",
       "      <td>9.616667</td>\n",
       "    </tr>\n",
       "    <tr>\n",
       "      <th>4</th>\n",
       "      <td>107</td>\n",
       "      <td>79</td>\n",
       "      <td>10.833333</td>\n",
       "    </tr>\n",
       "  </tbody>\n",
       "</table>\n",
       "</div>"
      ],
      "text/plain": [
       "  PULocationID DOLocationID   duration\n",
       "0          161          141   8.433333\n",
       "1           43          237   6.316667\n",
       "2           48          238  12.750000\n",
       "3          138            7   9.616667\n",
       "4          107           79  10.833333"
      ]
     },
     "execution_count": 8,
     "metadata": {},
     "output_type": "execute_result"
    }
   ],
   "source": [
    "## Apply One-Hot Encoding\n",
    "ml_df = filtered_duration[['PULocationID', 'DOLocationID']].astype(str)\n",
    "ml_df['duration'] = filtered_duration['duration']\n",
    "ml_df.head()"
   ]
  },
  {
   "cell_type": "code",
   "execution_count": 9,
   "id": "224747f4",
   "metadata": {},
   "outputs": [
    {
     "data": {
      "text/plain": [
       "[{'PULocationID': '43', 'DOLocationID': '237'},\n",
       " {'PULocationID': '48', 'DOLocationID': '238'},\n",
       " {'PULocationID': '138', 'DOLocationID': '7'},\n",
       " {'PULocationID': '107', 'DOLocationID': '79'}]"
      ]
     },
     "execution_count": 9,
     "metadata": {},
     "output_type": "execute_result"
    }
   ],
   "source": [
    "## Dictionaries\n",
    "dicts_train = ml_df[['PULocationID', 'DOLocationID']].to_dict(orient='records')\n",
    "dicts_train[1:5]"
   ]
  },
  {
   "cell_type": "code",
   "execution_count": 10,
   "id": "7c166da5",
   "metadata": {},
   "outputs": [
    {
     "name": "stdout",
     "output_type": "stream",
     "text": [
      "4, Dimension of feature_matrix: (3009173, 515) \n",
      "\n"
     ]
    }
   ],
   "source": [
    "vec = DictVectorizer(sparse = True)\n",
    "feature_matrix = vec.fit_transform(dicts_train)\n",
    "\n",
    "print(f\"4, Dimension of feature_matrix: {feature_matrix.shape} \\n\")"
   ]
  },
  {
   "cell_type": "code",
   "execution_count": 11,
   "id": "8a0a27ee",
   "metadata": {},
   "outputs": [
    {
     "name": "stdout",
     "output_type": "stream",
     "text": [
      "5, RMSE: 7.649261027919939\n"
     ]
    }
   ],
   "source": [
    "## Linear Regression Model\n",
    "from sklearn.linear_model import LinearRegression\n",
    "from sklearn.metrics import mean_squared_error\n",
    "\n",
    "y = ml_df['duration']\n",
    "\n",
    "model = LinearRegression()\n",
    "model.fit(feature_matrix, y)\n",
    "y_pred = model.predict(feature_matrix)\n",
    "rmse = np.sqrt(mean_squared_error(y, y_pred))\n",
    "\n",
    "print(f\"5, RMSE: {rmse}\")"
   ]
  },
  {
   "cell_type": "code",
   "execution_count": 13,
   "id": "bfa746e6",
   "metadata": {},
   "outputs": [
    {
     "data": {
      "text/plain": [
       "(2855951, 20)"
      ]
     },
     "execution_count": 13,
     "metadata": {},
     "output_type": "execute_result"
    }
   ],
   "source": [
    "val_df = pd.read_parquet(\"./data/feb_yellow.parquet\")\n",
    "val_df[[\"tpep_pickup_datetime\", \"tpep_dropoff_datetime\"]] = val_df[[\"tpep_pickup_datetime\", \"tpep_dropoff_datetime\"]].apply(pd.to_datetime)\n",
    "val_df[\"duration\"] = (val_df[\"tpep_dropoff_datetime\"] - val_df[\"tpep_pickup_datetime\"]).dt.total_seconds()/60\n",
    "val_df = val_df[val_df['duration'].between(1,60)]\n",
    "\n",
    "val_df.shape"
   ]
  }
 ],
 "metadata": {
  "kernelspec": {
   "display_name": "Python 3 (ipykernel)",
   "language": "python",
   "name": "python3"
  }
 },
 "nbformat": 4,
 "nbformat_minor": 5
}
